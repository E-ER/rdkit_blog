{
 "cells": [
  {
   "cell_type": "code",
   "execution_count": 59,
   "metadata": {},
   "outputs": [
    {
     "name": "stdout",
     "output_type": "stream",
     "text": [
      "Populating the interactive namespace from numpy and matplotlib\n"
     ]
    },
    {
     "name": "stderr",
     "output_type": "stream",
     "text": [
      "C:\\Users\\glandrum\\Anaconda3\\lib\\site-packages\\IPython\\core\\magics\\pylab.py:160: UserWarning: pylab import has clobbered these variables: ['test', 'random']\n",
      "`%matplotlib` prevents importing * from pylab and numpy\n",
      "  \"\\n`%matplotlib` prevents importing * from pylab and numpy\"\n"
     ]
    }
   ],
   "source": [
    "from rdkit import Chem, DataStructs\n",
    "from rdkit.Chem import Draw\n",
    "from rdkit.Chem import rdFingerprintGenerator\n",
    "from rdkit.Chem.Draw import IPythonConsole\n",
    "import pandas as pd\n",
    "import numpy as np\n",
    "import matplotlib.pyplot as plt\n",
    "%pylab inline"
   ]
  },
  {
   "cell_type": "code",
   "execution_count": 4,
   "metadata": {},
   "outputs": [
    {
     "data": {
      "text/html": [
       "<div>\n",
       "<style scoped>\n",
       "    .dataframe tbody tr th:only-of-type {\n",
       "        vertical-align: middle;\n",
       "    }\n",
       "\n",
       "    .dataframe tbody tr th {\n",
       "        vertical-align: top;\n",
       "    }\n",
       "\n",
       "    .dataframe thead th {\n",
       "        text-align: right;\n",
       "    }\n",
       "</style>\n",
       "<table border=\"1\" class=\"dataframe\">\n",
       "  <thead>\n",
       "    <tr style=\"text-align: right;\">\n",
       "      <th></th>\n",
       "      <th>standard_relation</th>\n",
       "      <th>standard_value</th>\n",
       "      <th>standard_type</th>\n",
       "      <th>pchembl_value</th>\n",
       "      <th>assay_chembl_id</th>\n",
       "      <th>target_chembl_id</th>\n",
       "      <th>canonical_smiles</th>\n",
       "      <th>compound_chembl_id</th>\n",
       "    </tr>\n",
       "  </thead>\n",
       "  <tbody>\n",
       "    <tr>\n",
       "      <th>0</th>\n",
       "      <td>&gt;</td>\n",
       "      <td>10000.0</td>\n",
       "      <td>Ki</td>\n",
       "      <td>NaN</td>\n",
       "      <td>CHEMBL615807</td>\n",
       "      <td>CHEMBL214</td>\n",
       "      <td>CCN(C)C1CCCc2ccncc12.OC(=O)\\C=C/C(=O)O.OC(=O)\\...</td>\n",
       "      <td>CHEMBL1794855</td>\n",
       "    </tr>\n",
       "    <tr>\n",
       "      <th>1</th>\n",
       "      <td>=</td>\n",
       "      <td>168.0</td>\n",
       "      <td>Ki</td>\n",
       "      <td>6.78</td>\n",
       "      <td>CHEMBL615460</td>\n",
       "      <td>CHEMBL214</td>\n",
       "      <td>CCCN(CCC)[C@@H]1CCc2c(OC)cccc2[C@@H]1C</td>\n",
       "      <td>CHEMBL278751</td>\n",
       "    </tr>\n",
       "    <tr>\n",
       "      <th>2</th>\n",
       "      <td>=</td>\n",
       "      <td>181.0</td>\n",
       "      <td>Ki</td>\n",
       "      <td>6.74</td>\n",
       "      <td>CHEMBL615809</td>\n",
       "      <td>CHEMBL214</td>\n",
       "      <td>C(N1CCN(CC1)c2ncccn2)c3c[nH]c(n3)c4ccccc4</td>\n",
       "      <td>CHEMBL103772</td>\n",
       "    </tr>\n",
       "    <tr>\n",
       "      <th>3</th>\n",
       "      <td>=</td>\n",
       "      <td>3.9</td>\n",
       "      <td>Ki</td>\n",
       "      <td>8.41</td>\n",
       "      <td>CHEMBL615460</td>\n",
       "      <td>CHEMBL214</td>\n",
       "      <td>CCCN1CC[C@@H]2[C@H]1CCc3ccc4ccoc4c23</td>\n",
       "      <td>CHEMBL328107</td>\n",
       "    </tr>\n",
       "    <tr>\n",
       "      <th>4</th>\n",
       "      <td>=</td>\n",
       "      <td>1.6</td>\n",
       "      <td>Ki</td>\n",
       "      <td>8.80</td>\n",
       "      <td>CHEMBL615756</td>\n",
       "      <td>CHEMBL214</td>\n",
       "      <td>COc1cccc2OC[C@H](CN3[C@@H]4CC[C@H]3C[C@@](O)(C...</td>\n",
       "      <td>CHEMBL148860</td>\n",
       "    </tr>\n",
       "  </tbody>\n",
       "</table>\n",
       "</div>"
      ],
      "text/plain": [
       "  standard_relation  standard_value standard_type  pchembl_value  \\\n",
       "0                 >         10000.0            Ki            NaN   \n",
       "1                 =           168.0            Ki           6.78   \n",
       "2                 =           181.0            Ki           6.74   \n",
       "3                 =             3.9            Ki           8.41   \n",
       "4                 =             1.6            Ki           8.80   \n",
       "\n",
       "  assay_chembl_id target_chembl_id  \\\n",
       "0    CHEMBL615807        CHEMBL214   \n",
       "1    CHEMBL615460        CHEMBL214   \n",
       "2    CHEMBL615809        CHEMBL214   \n",
       "3    CHEMBL615460        CHEMBL214   \n",
       "4    CHEMBL615756        CHEMBL214   \n",
       "\n",
       "                                    canonical_smiles compound_chembl_id  \n",
       "0  CCN(C)C1CCCc2ccncc12.OC(=O)\\C=C/C(=O)O.OC(=O)\\...      CHEMBL1794855  \n",
       "1             CCCN(CCC)[C@@H]1CCc2c(OC)cccc2[C@@H]1C       CHEMBL278751  \n",
       "2          C(N1CCN(CC1)c2ncccn2)c3c[nH]c(n3)c4ccccc4       CHEMBL103772  \n",
       "3               CCCN1CC[C@@H]2[C@H]1CCc3ccc4ccoc4c23       CHEMBL328107  \n",
       "4  COc1cccc2OC[C@H](CN3[C@@H]4CC[C@H]3C[C@@](O)(C...       CHEMBL148860  "
      ]
     },
     "execution_count": 4,
     "metadata": {},
     "output_type": "execute_result"
    }
   ],
   "source": [
    "d = pd.read_csv('../data/chembl_5HT.csv')\n",
    "d.head()"
   ]
  },
  {
   "cell_type": "code",
   "execution_count": 6,
   "metadata": {},
   "outputs": [
    {
     "data": {
      "text/plain": [
       "array([[<matplotlib.axes._subplots.AxesSubplot object at 0x00000220F4518D30>]],\n",
       "      dtype=object)"
      ]
     },
     "execution_count": 6,
     "metadata": {},
     "output_type": "execute_result"
    },
    {
     "data": {
      "image/png": "[encoded data removed]",
      "text/plain": [
       "<matplotlib.figure.Figure at 0x220f4518780>"
      ]
     },
     "metadata": {},
     "output_type": "display_data"
    }
   ],
   "source": [
    "# pull 5-HT6\n",
    "assay = d.loc[d['target_chembl_id']=='CHEMBL3371']\n",
    "assay.hist('pchembl_value')"
   ]
  },
  {
   "cell_type": "code",
   "execution_count": 12,
   "metadata": {},
   "outputs": [
    {
     "data": {
      "text/plain": [
       "(404, 2137)"
      ]
     },
     "execution_count": 12,
     "metadata": {},
     "output_type": "execute_result"
    }
   ],
   "source": [
    "len(assay.loc[assay['pchembl_value']>9.0]),len(assay.loc[assay['pchembl_value']<8.5])"
   ]
  },
  {
   "cell_type": "code",
   "execution_count": 48,
   "metadata": {},
   "outputs": [],
   "source": [
    "acts = assay.loc[assay['pchembl_value']>9.0]\n",
    "inacts = assay.loc[assay['pchembl_value']<8.5]\n",
    "act_data = []\n",
    "for i,fp in enumerate(rdFingerprintGenerator.GetFPs([Chem.MolFromSmiles(x) for x in acts['canonical_smiles']],fpType=rdFingerprintGenerator.MorganFP)):\n",
    "    bv = np.zeros((len(fp),),np.int16)\n",
    "    DataStructs.ConvertToNumpyArray(fp,bv)\n",
    "    act_data.append((acts['compound_chembl_id'].iloc[i],bv,1))\n",
    "    \n",
    "    \n",
    "inact_data = []\n",
    "for i,fp in enumerate(rdFingerprintGenerator.GetFPs([Chem.MolFromSmiles(x) for x in inacts['canonical_smiles']],fpType=rdFingerprintGenerator.MorganFP)):\n",
    "    bv = np.zeros((len(fp),),np.int16)\n",
    "    DataStructs.ConvertToNumpyArray(fp,bv)\n",
    "    inact_data.append((inacts['compound_chembl_id'].iloc[i],bv,0))\n"
   ]
  },
  {
   "cell_type": "code",
   "execution_count": 61,
   "metadata": {},
   "outputs": [],
   "source": [
    "import sklearn\n",
    "import random\n",
    "random.seed(0xf00d)\n",
    "nAct = len(act_data)\n",
    "actis = list(range(nAct))\n",
    "nInact = len(inact_data)\n",
    "inactis = list(range(nInact))\n",
    "random.shuffle(actis)\n",
    "random.shuffle(inactis)\n",
    "\n",
    "train_pct = 0.80\n",
    "train = [act_data[x] for x in actis[:int(train_pct*nAct)]] + [inact_data[x] for x in inactis[:int(train_pct*nInact)]]\n",
    "test = [act_data[x] for x in actis[int(train_pct*nAct):]] + [inact_data[x] for x in inactis[int(train_pct*nInact):]]\n",
    "\n",
    "random.shuffle(train)\n",
    "random.shuffle(test)\n"
   ]
  },
  {
   "cell_type": "code",
   "execution_count": 62,
   "metadata": {},
   "outputs": [
    {
     "data": {
      "text/plain": [
       "RandomForestClassifier(bootstrap=True, class_weight=None, criterion='gini',\n",
       "            max_depth=15, max_features='auto', max_leaf_nodes=None,\n",
       "            min_impurity_decrease=0.0, min_impurity_split=None,\n",
       "            min_samples_leaf=2, min_samples_split=2,\n",
       "            min_weight_fraction_leaf=0.0, n_estimators=500, n_jobs=4,\n",
       "            oob_score=False, random_state=None, verbose=0,\n",
       "            warm_start=False)"
      ]
     },
     "execution_count": 62,
     "metadata": {},
     "output_type": "execute_result"
    }
   ],
   "source": [
    "from sklearn.ensemble import RandomForestClassifier\n",
    "cls = RandomForestClassifier(n_estimators=500,max_depth=15,min_samples_leaf=2,n_jobs=4)\n",
    "cls.fit([y for x,y,z in train],[z for x,y,z in train])"
   ]
  },
  {
   "cell_type": "code",
   "execution_count": 70,
   "metadata": {},
   "outputs": [
    {
     "name": "stdout",
     "output_type": "stream",
     "text": [
      "kappa: 0.606\n",
      "[[417  11]\n",
      " [ 36  45]]\n",
      "             precision    recall  f1-score   support\n",
      "\n",
      "          0       0.92      0.97      0.95       428\n",
      "          1       0.80      0.56      0.66        81\n",
      "\n",
      "avg / total       0.90      0.91      0.90       509\n",
      "\n"
     ]
    },
    {
     "data": {
      "image/png": "[encoded data removed]",
      "text/plain": [
       "<matplotlib.figure.Figure at 0x220f5a91438>"
      ]
     },
     "metadata": {},
     "output_type": "display_data"
    }
   ],
   "source": [
    "from sklearn import metrics\n",
    "scores = cls.predict([y for x,y,z in test])\n",
    "print('kappa: %.3f'%metrics.cohen_kappa_score([z for x,y,z in test],scores))\n",
    "print(metrics.confusion_matrix([z for x,y,z in test],scores))\n",
    "print(metrics.classification_report([z for x,y,z in test],scores))\n",
    "probs = cls.predict_proba([y for x,y,z in test])[:,1]\n",
    "auroc = metrics.roc_auc_score([z for x,y,z in test], probs)\n",
    "fpr, tpr, thresholds = metrics.roc_curve([z for x,y,z in test], probs, pos_label=1)\n",
    "plt.figure(1)\n",
    "plt.plot([0, 1], [0, 1], 'k--')\n",
    "plt.plot(fpr, tpr, label='AUC=%.2f'%auroc)\n",
    "plt.xlabel('False positive rate')\n",
    "plt.ylabel('True positive rate')\n",
    "plt.title('ROC curve')\n",
    "plt.legend(loc='best')\n",
    "plt.show()"
   ]
  },
  {
   "cell_type": "code",
   "execution_count": 77,
   "metadata": {},
   "outputs": [
    {
     "name": "stdout",
     "output_type": "stream",
     "text": [
      "kappa: 0.813\n",
      "[[413  15]\n",
      " [ 11  70]]\n",
      "             precision    recall  f1-score   support\n",
      "\n",
      "          0       0.97      0.96      0.97       428\n",
      "          1       0.82      0.86      0.84        81\n",
      "\n",
      "avg / total       0.95      0.95      0.95       509\n",
      "\n"
     ]
    }
   ],
   "source": [
    "# balanced prediction\n",
    "thresh = min(2*nAct/(nAct+nInact),0.5)\n",
    "probs = cls.predict_proba([y for x,y,z in test])[:,1]\n",
    "scores = [1 if x>=thresh else 0 for x in probs]\n",
    "print('kappa: %.3f'%metrics.cohen_kappa_score([z for x,y,z in test],scores))\n",
    "print(metrics.confusion_matrix([z for x,y,z in test],scores))\n",
    "print(metrics.classification_report([z for x,y,z in test],scores))\n"
   ]
  },
  {
   "cell_type": "code",
   "execution_count": 78,
   "metadata": {},
   "outputs": [
    {
     "data": {
      "text/plain": [
       "array([[<matplotlib.axes._subplots.AxesSubplot object at 0x00000220F8A66470>]],\n",
       "      dtype=object)"
      ]
     },
     "execution_count": 78,
     "metadata": {},
     "output_type": "execute_result"
    },
    {
     "data": {
      "image/png": "[encoded data removed]",
      "text/plain": [
       "<matplotlib.figure.Figure at 0x220f9ae74a8>"
      ]
     },
     "metadata": {},
     "output_type": "display_data"
    }
   ],
   "source": [
    "# pull 5-HT2a\n",
    "assay = d.loc[d['target_chembl_id']=='CHEMBL224']\n",
    "assay.hist('pchembl_value')"
   ]
  },
  {
   "cell_type": "code",
   "execution_count": 79,
   "metadata": {},
   "outputs": [
    {
     "data": {
      "text/plain": [
       "(211, 2477)"
      ]
     },
     "execution_count": 79,
     "metadata": {},
     "output_type": "execute_result"
    }
   ],
   "source": [
    "len(assay.loc[assay['pchembl_value']>9.0]),len(assay.loc[assay['pchembl_value']<8.5])"
   ]
  },
  {
   "cell_type": "code",
   "execution_count": 81,
   "metadata": {},
   "outputs": [
    {
     "name": "stdout",
     "output_type": "stream",
     "text": [
      "kappa: 0.714\n",
      "[[494   2]\n",
      " [ 17  26]]\n",
      "             precision    recall  f1-score   support\n",
      "\n",
      "          0       0.97      1.00      0.98       496\n",
      "          1       0.93      0.60      0.73        43\n",
      "\n",
      "avg / total       0.96      0.96      0.96       539\n",
      "\n"
     ]
    },
    {
     "data": {
      "image/png": "[encoded data removed]",
      "text/plain": [
       "<matplotlib.figure.Figure at 0x220fbc5d3c8>"
      ]
     },
     "metadata": {},
     "output_type": "display_data"
    }
   ],
   "source": [
    "acts = assay.loc[assay['pchembl_value']>9.0]\n",
    "inacts = assay.loc[assay['pchembl_value']<8.5]\n",
    "act_data = []\n",
    "for i,fp in enumerate(rdFingerprintGenerator.GetFPs([Chem.MolFromSmiles(x) for x in acts['canonical_smiles']],fpType=rdFingerprintGenerator.MorganFP)):\n",
    "    bv = np.zeros((len(fp),),np.int16)\n",
    "    DataStructs.ConvertToNumpyArray(fp,bv)\n",
    "    act_data.append((acts['compound_chembl_id'].iloc[i],bv,1))\n",
    "    \n",
    "    \n",
    "inact_data = []\n",
    "for i,fp in enumerate(rdFingerprintGenerator.GetFPs([Chem.MolFromSmiles(x) for x in inacts['canonical_smiles']],fpType=rdFingerprintGenerator.MorganFP)):\n",
    "    bv = np.zeros((len(fp),),np.int16)\n",
    "    DataStructs.ConvertToNumpyArray(fp,bv)\n",
    "    inact_data.append((inacts['compound_chembl_id'].iloc[i],bv,0))\n",
    "\n",
    "    import sklearn\n",
    "import random\n",
    "random.seed(0xf00d)\n",
    "nAct = len(act_data)\n",
    "actis = list(range(nAct))\n",
    "nInact = len(inact_data)\n",
    "inactis = list(range(nInact))\n",
    "random.shuffle(actis)\n",
    "random.shuffle(inactis)\n",
    "\n",
    "train_pct = 0.80\n",
    "train = [act_data[x] for x in actis[:int(train_pct*nAct)]] + [inact_data[x] for x in inactis[:int(train_pct*nInact)]]\n",
    "test = [act_data[x] for x in actis[int(train_pct*nAct):]] + [inact_data[x] for x in inactis[int(train_pct*nInact):]]\n",
    "\n",
    "random.shuffle(train)\n",
    "random.shuffle(test)\n",
    "\n",
    "from sklearn.ensemble import RandomForestClassifier\n",
    "cls = RandomForestClassifier(n_estimators=500,max_depth=15,min_samples_leaf=2,n_jobs=4)\n",
    "cls.fit([y for x,y,z in train],[z for x,y,z in train])\n",
    "from sklearn import metrics\n",
    "scores = cls.predict([y for x,y,z in test])\n",
    "print('kappa: %.3f'%metrics.cohen_kappa_score([z for x,y,z in test],scores))\n",
    "print(metrics.confusion_matrix([z for x,y,z in test],scores))\n",
    "print(metrics.classification_report([z for x,y,z in test],scores))\n",
    "probs = cls.predict_proba([y for x,y,z in test])[:,1]\n",
    "auroc = metrics.roc_auc_score([z for x,y,z in test], probs)\n",
    "fpr, tpr, thresholds = metrics.roc_curve([z for x,y,z in test], probs, pos_label=1)\n",
    "plt.figure(1)\n",
    "plt.plot([0, 1], [0, 1], 'k--')\n",
    "plt.plot(fpr, tpr, label='AUC=%.2f'%auroc)\n",
    "plt.xlabel('False positive rate')\n",
    "plt.ylabel('True positive rate')\n",
    "plt.title('ROC curve')\n",
    "plt.legend(loc='best')\n",
    "plt.show()"
   ]
  },
  {
   "cell_type": "code",
   "execution_count": 88,
   "metadata": {},
   "outputs": [
    {
     "name": "stdout",
     "output_type": "stream",
     "text": [
      "kappa: 0.724\n",
      "[[474  22]\n",
      " [  4  39]]\n",
      "             precision    recall  f1-score   support\n",
      "\n",
      "          0       0.99      0.96      0.97       496\n",
      "          1       0.64      0.91      0.75        43\n",
      "\n",
      "avg / total       0.96      0.95      0.96       539\n",
      "\n"
     ]
    }
   ],
   "source": [
    "# balanced prediction\n",
    "thresh = min(2*nAct/(nAct+nInact),0.5)\n",
    "thresh = 0.2\n",
    "probs = cls.predict_proba([y for x,y,z in test])[:,1]\n",
    "scores = [1 if x>=thresh else 0 for x in probs]\n",
    "print('kappa: %.3f'%metrics.cohen_kappa_score([z for x,y,z in test],scores))\n",
    "print(metrics.confusion_matrix([z for x,y,z in test],scores))\n",
    "print(metrics.classification_report([z for x,y,z in test],scores))\n"
   ]
  },
  {
   "cell_type": "code",
   "execution_count": 87,
   "metadata": {},
   "outputs": [
    {
     "data": {
      "text/plain": [
       "0.15699404761904762"
      ]
     },
     "execution_count": 87,
     "metadata": {},
     "output_type": "execute_result"
    }
   ],
   "source": [
    "min(2*nAct/(nAct+nInact),0.5)\n"
   ]
  },
  {
   "cell_type": "code",
   "execution_count": 89,
   "metadata": {},
   "outputs": [
    {
     "name": "stdout",
     "output_type": "stream",
     "text": [
      "213 1974\n"
     ]
    }
   ],
   "source": [
    "# pull 5-HT1a\n",
    "assay = d.loc[d['target_chembl_id']=='CHEMBL214']\n",
    "print(len(assay.loc[assay['pchembl_value']>9.0]),len(assay.loc[assay['pchembl_value']<8.5]))"
   ]
  },
  {
   "cell_type": "code",
   "execution_count": 96,
   "metadata": {},
   "outputs": [
    {
     "name": "stdout",
     "output_type": "stream",
     "text": [
      "kappa: 0.471, AUC: 0.950\n",
      "[[393   2]\n",
      " [ 28  15]]\n",
      "             precision    recall  f1-score   support\n",
      "\n",
      "          0       0.93      0.99      0.96       395\n",
      "          1       0.88      0.35      0.50        43\n",
      "\n",
      "avg / total       0.93      0.93      0.92       438\n",
      "\n"
     ]
    }
   ],
   "source": [
    "acts = assay.loc[assay['pchembl_value']>9.0]\n",
    "inacts = assay.loc[assay['pchembl_value']<8.5]\n",
    "act_data = []\n",
    "for i,fp in enumerate(rdFingerprintGenerator.GetFPs([Chem.MolFromSmiles(x) for x in acts['canonical_smiles']],fpType=rdFingerprintGenerator.MorganFP)):\n",
    "    bv = np.zeros((len(fp),),np.int16)\n",
    "    DataStructs.ConvertToNumpyArray(fp,bv)\n",
    "    act_data.append((acts['compound_chembl_id'].iloc[i],bv,1))\n",
    "    \n",
    "    \n",
    "inact_data = []\n",
    "for i,fp in enumerate(rdFingerprintGenerator.GetFPs([Chem.MolFromSmiles(x) for x in inacts['canonical_smiles']],fpType=rdFingerprintGenerator.MorganFP)):\n",
    "    bv = np.zeros((len(fp),),np.int16)\n",
    "    DataStructs.ConvertToNumpyArray(fp,bv)\n",
    "    inact_data.append((inacts['compound_chembl_id'].iloc[i],bv,0))\n",
    "\n",
    "    import sklearn\n",
    "import random\n",
    "random.seed(0xf00d)\n",
    "nAct = len(act_data)\n",
    "actis = list(range(nAct))\n",
    "nInact = len(inact_data)\n",
    "inactis = list(range(nInact))\n",
    "random.shuffle(actis)\n",
    "random.shuffle(inactis)\n",
    "\n",
    "train_pct = 0.80\n",
    "train = [act_data[x] for x in actis[:int(train_pct*nAct)]] + [inact_data[x] for x in inactis[:int(train_pct*nInact)]]\n",
    "test = [act_data[x] for x in actis[int(train_pct*nAct):]] + [inact_data[x] for x in inactis[int(train_pct*nInact):]]\n",
    "\n",
    "random.shuffle(train)\n",
    "random.shuffle(test)\n",
    "\n",
    "from sklearn.ensemble import RandomForestClassifier\n",
    "cls = RandomForestClassifier(n_estimators=500,max_depth=15,min_samples_leaf=2,n_jobs=4)\n",
    "cls.fit([y for x,y,z in train],[z for x,y,z in train])\n",
    "from sklearn import metrics\n",
    "scores = cls.predict([y for x,y,z in test])\n",
    "probs = cls.predict_proba([y for x,y,z in test])[:,1]\n",
    "auroc = metrics.roc_auc_score([z for x,y,z in test], probs)\n",
    "print('kappa: %.3f, AUC: %.3f'%(metrics.cohen_kappa_score([z for x,y,z in test],scores),auroc))\n",
    "print(metrics.confusion_matrix([z for x,y,z in test],scores))\n",
    "print(metrics.classification_report([z for x,y,z in test],scores))"
   ]
  },
  {
   "cell_type": "code",
   "execution_count": 94,
   "metadata": {},
   "outputs": [
    {
     "name": "stdout",
     "output_type": "stream",
     "text": [
      "kappa: 0.652\n",
      "[[370  25]\n",
      " [  7  36]]\n",
      "             precision    recall  f1-score   support\n",
      "\n",
      "          0       0.98      0.94      0.96       395\n",
      "          1       0.59      0.84      0.69        43\n",
      "\n",
      "avg / total       0.94      0.93      0.93       438\n",
      "\n"
     ]
    }
   ],
   "source": [
    "# balanced prediction\n",
    "thresh = min(2*nAct/(nAct+nInact),0.5)\n",
    "#thresh = 0.3\n",
    "probs = cls.predict_proba([y for x,y,z in test])[:,1]\n",
    "scores = [1 if x>=thresh else 0 for x in probs]\n",
    "print('kappa: %.3f'%metrics.cohen_kappa_score([z for x,y,z in test],scores))\n",
    "print(metrics.confusion_matrix([z for x,y,z in test],scores))\n",
    "print(metrics.classification_report([z for x,y,z in test],scores))\n"
   ]
  },
  {
   "cell_type": "code",
   "execution_count": 92,
   "metadata": {},
   "outputs": [
    {
     "data": {
      "text/plain": [
       "0.19478737997256515"
      ]
     },
     "execution_count": 92,
     "metadata": {},
     "output_type": "execute_result"
    }
   ],
   "source": [
    "min(2*nAct/(nAct+nInact),0.5)\n"
   ]
  },
  {
   "cell_type": "code",
   "execution_count": 102,
   "metadata": {},
   "outputs": [],
   "source": [
    "import sklearn\n",
    "import random\n",
    "from sklearn.ensemble import RandomForestClassifier\n",
    "from sklearn import metrics\n",
    "\n",
    "def run_it(acts,inacts):\n",
    "    act_data = []\n",
    "    for i,fp in enumerate(rdFingerprintGenerator.GetFPs([Chem.MolFromSmiles(x) for x in acts['canonical_smiles']],fpType=rdFingerprintGenerator.MorganFP)):\n",
    "        bv = np.zeros((len(fp),),np.int16)\n",
    "        DataStructs.ConvertToNumpyArray(fp,bv)\n",
    "        act_data.append((acts['compound_chembl_id'].iloc[i],bv,1))\n",
    "\n",
    "\n",
    "    inact_data = []\n",
    "    for i,fp in enumerate(rdFingerprintGenerator.GetFPs([Chem.MolFromSmiles(x) for x in inacts['canonical_smiles']],fpType=rdFingerprintGenerator.MorganFP)):\n",
    "        bv = np.zeros((len(fp),),np.int16)\n",
    "        DataStructs.ConvertToNumpyArray(fp,bv)\n",
    "        inact_data.append((inacts['compound_chembl_id'].iloc[i],bv,0))\n",
    "\n",
    "    random.seed(0xf00d)\n",
    "    nAct = len(act_data)\n",
    "    actis = list(range(nAct))\n",
    "    nInact = len(inact_data)\n",
    "    inactis = list(range(nInact))\n",
    "    random.shuffle(actis)\n",
    "    random.shuffle(inactis)\n",
    "\n",
    "    train_pct = 0.80\n",
    "    train = [act_data[x] for x in actis[:int(train_pct*nAct)]] + [inact_data[x] for x in inactis[:int(train_pct*nInact)]]\n",
    "    test = [act_data[x] for x in actis[int(train_pct*nAct):]] + [inact_data[x] for x in inactis[int(train_pct*nInact):]]\n",
    "\n",
    "    random.shuffle(train)\n",
    "    random.shuffle(test)\n",
    "\n",
    "    cls = RandomForestClassifier(n_estimators=500,max_depth=15,min_samples_leaf=2,n_jobs=4)\n",
    "    cls.fit([y for x,y,z in train],[z for x,y,z in train])\n",
    "    scores = cls.predict([y for x,y,z in test])\n",
    "    probs = cls.predict_proba([y for x,y,z in test])[:,1]\n",
    "    auroc = metrics.roc_auc_score([z for x,y,z in test], probs)\n",
    "    print('ratio: %.3f kappa: %.3f, AUC: %.3f'%(nAct/nInact,metrics.cohen_kappa_score([z for x,y,z in test],scores),auroc))\n",
    "    print(metrics.confusion_matrix([z for x,y,z in test],scores))\n",
    "    print(metrics.classification_report([z for x,y,z in test],scores))\n",
    "    return probs,[z for x,y,z in test]"
   ]
  },
  {
   "cell_type": "code",
   "execution_count": 103,
   "metadata": {},
   "outputs": [
    {
     "name": "stdout",
     "output_type": "stream",
     "text": [
      "ratio: 0.108 kappa: 0.471, AUC: 0.952\n",
      "[[393   2]\n",
      " [ 28  15]]\n",
      "             precision    recall  f1-score   support\n",
      "\n",
      "          0       0.93      0.99      0.96       395\n",
      "          1       0.88      0.35      0.50        43\n",
      "\n",
      "avg / total       0.93      0.93      0.92       438\n",
      "\n"
     ]
    }
   ],
   "source": [
    "acts = assay.loc[assay['pchembl_value']>9.0]\n",
    "inacts = assay.loc[assay['pchembl_value']<8.5]\n",
    "ps,tgt = run_it(acts,inacts)"
   ]
  },
  {
   "cell_type": "code",
   "execution_count": 104,
   "metadata": {},
   "outputs": [
    {
     "name": "stdout",
     "output_type": "stream",
     "text": [
      "kappa: 0.706\n",
      "[[383  12]\n",
      " [ 11  32]]\n",
      "             precision    recall  f1-score   support\n",
      "\n",
      "          0       0.97      0.97      0.97       395\n",
      "          1       0.73      0.74      0.74        43\n",
      "\n",
      "avg / total       0.95      0.95      0.95       438\n",
      "\n"
     ]
    }
   ],
   "source": [
    "# balanced prediction\n",
    "thresh = 0.3\n",
    "scores = [1 if x>=thresh else 0 for x in ps]\n",
    "print('kappa: %.3f'%metrics.cohen_kappa_score(tgt,scores))\n",
    "print(metrics.confusion_matrix(tgt,scores))\n",
    "print(metrics.classification_report(tgt,scores))\n"
   ]
  },
  {
   "cell_type": "code",
   "execution_count": 105,
   "metadata": {},
   "outputs": [
    {
     "name": "stdout",
     "output_type": "stream",
     "text": [
      "ratio: 0.085 kappa: 0.714, AUC: 0.987\n",
      "[[494   2]\n",
      " [ 17  26]]\n",
      "             precision    recall  f1-score   support\n",
      "\n",
      "          0       0.97      1.00      0.98       496\n",
      "          1       0.93      0.60      0.73        43\n",
      "\n",
      "avg / total       0.96      0.96      0.96       539\n",
      "\n"
     ]
    },
    {
     "data": {
      "image/png": "[encoded data removed]",
      "text/plain": [
       "<matplotlib.figure.Figure at 0x220f9c07f60>"
      ]
     },
     "metadata": {},
     "output_type": "display_data"
    }
   ],
   "source": [
    "# pull 5-HT2a\n",
    "assay = d.loc[d['target_chembl_id']=='CHEMBL224']\n",
    "assay.hist('pchembl_value')\n",
    "acts = assay.loc[assay['pchembl_value']>9.0]\n",
    "inacts = assay.loc[assay['pchembl_value']<8.5]\n",
    "ps,tgt = run_it(acts,inacts)\n"
   ]
  },
  {
   "cell_type": "code",
   "execution_count": 107,
   "metadata": {},
   "outputs": [
    {
     "name": "stdout",
     "output_type": "stream",
     "text": [
      "thresh: 0.300 kappa: 0.757\n",
      "[[487   9]\n",
      " [ 10  33]]\n",
      "             precision    recall  f1-score   support\n",
      "\n",
      "          0       0.98      0.98      0.98       496\n",
      "          1       0.79      0.77      0.78        43\n",
      "\n",
      "avg / total       0.96      0.96      0.96       539\n",
      "\n"
     ]
    }
   ],
   "source": [
    "thresh = 0.3\n",
    "scores = [1 if x>=thresh else 0 for x in ps]\n",
    "print('thresh: %.3f kappa: %.3f'%(thresh,metrics.cohen_kappa_score(tgt,scores)))\n",
    "print(metrics.confusion_matrix(tgt,scores))\n",
    "print(metrics.classification_report(tgt,scores))\n"
   ]
  },
  {
   "cell_type": "code",
   "execution_count": null,
   "metadata": {},
   "outputs": [],
   "source": []
  }
 ],
 "metadata": {
  "kernelspec": {
   "display_name": "Python 3",
   "language": "python",
   "name": "python3"
  },
  "language_info": {
   "codemirror_mode": {
    "name": "ipython",
    "version": 3
   },
   "file_extension": ".py",
   "mimetype": "text/x-python",
   "name": "python",
   "nbconvert_exporter": "python",
   "pygments_lexer": "ipython3",
   "version": "3.6.5"
  }
 },
 "nbformat": 4,
 "nbformat_minor": 2
}
